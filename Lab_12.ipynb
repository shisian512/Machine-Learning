{
  "nbformat": 4,
  "nbformat_minor": 0,
  "metadata": {
    "colab": {
      "name": "Lab 12.ipynb",
      "provenance": []
    },
    "kernelspec": {
      "name": "python3",
      "display_name": "Python 3"
    },
    "language_info": {
      "name": "python"
    }
  },
  "cells": [
    {
      "cell_type": "markdown",
      "source": [
        "# Markov Model"
      ],
      "metadata": {
        "id": "E1PP5auQZKJj"
      }
    },
    {
      "cell_type": "code",
      "source": [
        "%pip install hmmlearn"
      ],
      "metadata": {
        "colab": {
          "base_uri": "https://localhost:8080/"
        },
        "id": "Fgev9kCtQeSY",
        "outputId": "333a7632-599b-4ac9-fd62-36245a50b11d"
      },
      "execution_count": 2,
      "outputs": [
        {
          "output_type": "stream",
          "name": "stdout",
          "text": [
            "Collecting hmmlearn\n",
            "  Downloading hmmlearn-0.2.7-cp37-cp37m-manylinux_2_12_x86_64.manylinux2010_x86_64.whl (129 kB)\n",
            "\u001b[?25l\r\u001b[K     |██▌                             | 10 kB 19.6 MB/s eta 0:00:01\r\u001b[K     |█████                           | 20 kB 11.8 MB/s eta 0:00:01\r\u001b[K     |███████▋                        | 30 kB 9.2 MB/s eta 0:00:01\r\u001b[K     |██████████                      | 40 kB 8.7 MB/s eta 0:00:01\r\u001b[K     |████████████▋                   | 51 kB 4.8 MB/s eta 0:00:01\r\u001b[K     |███████████████▏                | 61 kB 5.7 MB/s eta 0:00:01\r\u001b[K     |█████████████████▊              | 71 kB 5.7 MB/s eta 0:00:01\r\u001b[K     |████████████████████▏           | 81 kB 4.3 MB/s eta 0:00:01\r\u001b[K     |██████████████████████▊         | 92 kB 4.8 MB/s eta 0:00:01\r\u001b[K     |█████████████████████████▎      | 102 kB 5.3 MB/s eta 0:00:01\r\u001b[K     |███████████████████████████▊    | 112 kB 5.3 MB/s eta 0:00:01\r\u001b[K     |██████████████████████████████▎ | 122 kB 5.3 MB/s eta 0:00:01\r\u001b[K     |████████████████████████████████| 129 kB 5.3 MB/s \n",
            "\u001b[?25hRequirement already satisfied: numpy>=1.10 in /usr/local/lib/python3.7/dist-packages (from hmmlearn) (1.21.5)\n",
            "Requirement already satisfied: scikit-learn>=0.16 in /usr/local/lib/python3.7/dist-packages (from hmmlearn) (1.0.2)\n",
            "Requirement already satisfied: scipy>=0.19 in /usr/local/lib/python3.7/dist-packages (from hmmlearn) (1.4.1)\n",
            "Requirement already satisfied: joblib>=0.11 in /usr/local/lib/python3.7/dist-packages (from scikit-learn>=0.16->hmmlearn) (1.1.0)\n",
            "Requirement already satisfied: threadpoolctl>=2.0.0 in /usr/local/lib/python3.7/dist-packages (from scikit-learn>=0.16->hmmlearn) (3.1.0)\n",
            "Installing collected packages: hmmlearn\n",
            "Successfully installed hmmlearn-0.2.7\n"
          ]
        }
      ]
    },
    {
      "cell_type": "code",
      "execution_count": 4,
      "metadata": {
        "id": "zRbleceNM0oN"
      },
      "outputs": [],
      "source": [
        "import numpy as np\n",
        "from hmmlearn import hmm\n",
        "import math"
      ]
    },
    {
      "cell_type": "code",
      "source": [
        "\"Walk\", \"Shop\", \"Clean\""
      ],
      "metadata": {
        "id": "9yxVi5CeQkbx"
      },
      "execution_count": null,
      "outputs": []
    },
    {
      "cell_type": "code",
      "source": [
        "# 2 no of states\n",
        "model = hmm.MultinomialHMM(n_components = 2)\n",
        "\n",
        "model.startprob_ = np.array([0.6, 0.4])\n",
        "model.transmat_ = np.array([[0.7, 0.3], \n",
        "                           [0.4, 0.6]])\n",
        "model.emissionprob_ = np.array([[0.1, 0.4, 0.5],\n",
        "                               [0.6, 0.3, 0.1]])"
      ],
      "metadata": {
        "id": "rary9lUJQwST"
      },
      "execution_count": 10,
      "outputs": []
    },
    {
      "cell_type": "code",
      "source": [
        "math.exp(model.score(np.array([[0]]))) # walk"
      ],
      "metadata": {
        "colab": {
          "base_uri": "https://localhost:8080/"
        },
        "id": "ZH7IHYENVz5z",
        "outputId": "42bb590e-00ed-480a-d025-ad81e79abb2d"
      },
      "execution_count": 11,
      "outputs": [
        {
          "output_type": "execute_result",
          "data": {
            "text/plain": [
              "0.30000000000000004"
            ]
          },
          "metadata": {},
          "execution_count": 11
        }
      ]
    },
    {
      "cell_type": "code",
      "source": [
        "math.exp(model.score(np.array([[1]]))) # shop"
      ],
      "metadata": {
        "colab": {
          "base_uri": "https://localhost:8080/"
        },
        "id": "tIIuf2VFWY7Z",
        "outputId": "1eae8337-5e38-4c18-ab83-58bcebb5d218"
      },
      "execution_count": 12,
      "outputs": [
        {
          "output_type": "execute_result",
          "data": {
            "text/plain": [
              "0.36000000000000004"
            ]
          },
          "metadata": {},
          "execution_count": 12
        }
      ]
    },
    {
      "cell_type": "code",
      "source": [
        "math.exp(model.score(np.array([[2]]))) # clean"
      ],
      "metadata": {
        "colab": {
          "base_uri": "https://localhost:8080/"
        },
        "id": "SenCKfckWyWQ",
        "outputId": "01187acd-6d5d-4d74-be67-2a65bb3ef4cf"
      },
      "execution_count": 13,
      "outputs": [
        {
          "output_type": "execute_result",
          "data": {
            "text/plain": [
              "0.3400000000000001"
            ]
          },
          "metadata": {},
          "execution_count": 13
        }
      ]
    },
    {
      "cell_type": "code",
      "source": [
        "math.exp(model.score(np.array([[1,2,0]]))) # shop, clean, walk"
      ],
      "metadata": {
        "colab": {
          "base_uri": "https://localhost:8080/"
        },
        "id": "SgoeRe-mW0Vy",
        "outputId": "b78bb312-61f7-4e29-f04a-b47f28a4e8b3"
      },
      "execution_count": 14,
      "outputs": [
        {
          "output_type": "execute_result",
          "data": {
            "text/plain": [
              "0.03276"
            ]
          },
          "metadata": {},
          "execution_count": 14
        }
      ]
    },
    {
      "cell_type": "code",
      "source": [
        "# optimal state sequence\n",
        "\n",
        "logprob, seq = model.decode(np.array([[1,2,0]]).transpose())"
      ],
      "metadata": {
        "id": "UUg_67_qW67X"
      },
      "execution_count": 17,
      "outputs": []
    },
    {
      "cell_type": "code",
      "source": [
        "math.exp(logprob)"
      ],
      "metadata": {
        "colab": {
          "base_uri": "https://localhost:8080/"
        },
        "id": "HIwgLTQEYCjC",
        "outputId": "8b628fb9-7ce9-4cf6-d735-c824859bf3ca"
      },
      "execution_count": 18,
      "outputs": [
        {
          "output_type": "execute_result",
          "data": {
            "text/plain": [
              "0.015120000000000003"
            ]
          },
          "metadata": {},
          "execution_count": 18
        }
      ]
    },
    {
      "cell_type": "code",
      "source": [
        "seq # rainy, rainy, sunny"
      ],
      "metadata": {
        "colab": {
          "base_uri": "https://localhost:8080/"
        },
        "id": "Zbkm6tsGYG7f",
        "outputId": "824ce83e-ca67-41f1-af1b-0aae7db84272"
      },
      "execution_count": 20,
      "outputs": [
        {
          "output_type": "execute_result",
          "data": {
            "text/plain": [
              "array([0, 0, 1])"
            ]
          },
          "metadata": {},
          "execution_count": 20
        }
      ]
    },
    {
      "cell_type": "code",
      "source": [
        "logprob, seq = model.decode(np.array([[1,2,0,1,2,0,1,2,0]]).transpose())\n",
        "print(math.exp(logprob))\n",
        "print(seq)"
      ],
      "metadata": {
        "colab": {
          "base_uri": "https://localhost:8080/"
        },
        "id": "jfDSBLjIYN8s",
        "outputId": "3fbc4f18-bbdd-40ff-8731-c2ac70414a9a"
      },
      "execution_count": 22,
      "outputs": [
        {
          "output_type": "stream",
          "name": "stdout",
          "text": [
            "1.5362887680000006e-06\n",
            "[0 0 1 0 0 1 0 0 1]\n"
          ]
        }
      ]
    },
    {
      "cell_type": "code",
      "source": [
        ""
      ],
      "metadata": {
        "id": "PUnJJYP7Ykgv"
      },
      "execution_count": null,
      "outputs": []
    },
    {
      "cell_type": "markdown",
      "source": [
        "# Reinforcement Learning"
      ],
      "metadata": {
        "id": "yZ_jWtWjZGrM"
      }
    },
    {
      "cell_type": "code",
      "source": [
        "gamma = 0.8\n",
        "\n",
        "R = np.matrix([[-1,-1,-1,-1,0,-1],\n",
        "               [-1,-1,-1,0,-1,100],\n",
        "               [-1,-1,-1,0,-1,-1],\n",
        "               [-1,0,0,-1,0,-1],\n",
        "               [0,-1,-1,0,-1,100],\n",
        "               [-1,0,-1,-1,0,100]])\n",
        "\n",
        "Q = np.matrix(np.zeros([6,6]))"
      ],
      "metadata": {
        "id": "oegKEvAiZJHO"
      },
      "execution_count": 29,
      "outputs": []
    },
    {
      "cell_type": "code",
      "source": [
        "for i in range(10000):\n",
        "  current_state = np.random.randint(0,int(Q.shape[0]))\n",
        "  current_state_row = R[current_state, :]\n",
        "  # get the first avail action\n",
        "  avail_actions = np.where(current_state_row >= 0)[1]\n",
        "  action = np.random.choice(avail_actions, 1)\n",
        "  max_index = np.where(Q[action, :] == np.max(Q[action, :]))[1]\n",
        "  if max_index.shape[0] > 1:\n",
        "    max_index = np.random.choice(max_index, 1)\n",
        "  Q[current_state, action] = R[current_state, action] + gamma * Q[action, max_index]"
      ],
      "metadata": {
        "id": "e1KlCmOfe-V0"
      },
      "execution_count": 33,
      "outputs": []
    },
    {
      "cell_type": "code",
      "source": [
        "print(\"Trained Q matrix:\")\n",
        "print(Q)"
      ],
      "metadata": {
        "colab": {
          "base_uri": "https://localhost:8080/"
        },
        "id": "wCbTQJeHhCBw",
        "outputId": "3ad1bcca-d4b2-4763-9411-e8af6154096e"
      },
      "execution_count": 34,
      "outputs": [
        {
          "output_type": "stream",
          "name": "stdout",
          "text": [
            "Trained Q matrix:\n",
            "[[  0.   0.   0.   0. 400.   0.]\n",
            " [  0.   0.   0. 320.   0. 500.]\n",
            " [  0.   0.   0. 320.   0.   0.]\n",
            " [  0. 400. 256.   0. 400.   0.]\n",
            " [320.   0.   0. 320.   0. 500.]\n",
            " [  0. 400.   0.   0. 400. 500.]]\n"
          ]
        }
      ]
    },
    {
      "cell_type": "code",
      "source": [
        "print(\"Normalized Trained Q matrix:\")\n",
        "print(Q / np.max(Q) * 100)"
      ],
      "metadata": {
        "colab": {
          "base_uri": "https://localhost:8080/"
        },
        "id": "4aO3yiKPhzAX",
        "outputId": "cf4814a4-24e6-4972-ca97-6159580b7664"
      },
      "execution_count": 36,
      "outputs": [
        {
          "output_type": "stream",
          "name": "stdout",
          "text": [
            "Normalized Trained Q matrix:\n",
            "[[  0.    0.    0.    0.   80.    0. ]\n",
            " [  0.    0.    0.   64.    0.  100. ]\n",
            " [  0.    0.    0.   64.    0.    0. ]\n",
            " [  0.   80.   51.2   0.   80.    0. ]\n",
            " [ 64.    0.    0.   64.    0.  100. ]\n",
            " [  0.   80.    0.    0.   80.  100. ]]\n"
          ]
        }
      ]
    },
    {
      "cell_type": "code",
      "source": [
        "current_state = 2\n",
        "steps = [current_state]\n",
        "\n",
        "while current_state != 5:\n",
        "  next_step = np.where(Q[current_state, :] == np.max(Q[current_state, :]))[1]\n",
        "  if next_step.shape[0] > 1:\n",
        "    next_step = np.random.choice(next_step, 1)\n",
        "  steps.append(int(next_step))\n",
        "  current_state = next_step\n",
        "\n",
        "print(\"Path:\", steps)"
      ],
      "metadata": {
        "colab": {
          "base_uri": "https://localhost:8080/"
        },
        "id": "rCeFAPFeh9ev",
        "outputId": "cd2e161a-6787-4a96-d272-d2765bce1d13"
      },
      "execution_count": 37,
      "outputs": [
        {
          "output_type": "stream",
          "name": "stdout",
          "text": [
            "Path: [2, 3, 4, 5]\n"
          ]
        }
      ]
    },
    {
      "cell_type": "code",
      "source": [
        ""
      ],
      "metadata": {
        "id": "MV_ONeOjkAG5"
      },
      "execution_count": null,
      "outputs": []
    }
  ]
}